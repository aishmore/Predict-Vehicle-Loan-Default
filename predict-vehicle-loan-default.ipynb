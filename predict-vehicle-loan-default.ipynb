{
 "cells": [
  {
   "cell_type": "markdown",
   "id": "3eec7b20",
   "metadata": {
    "papermill": {
     "duration": 0.006797,
     "end_time": "2023-05-12T03:15:56.025443",
     "exception": false,
     "start_time": "2023-05-12T03:15:56.018646",
     "status": "completed"
    },
    "tags": []
   },
   "source": [
    "## Project Outline"
   ]
  },
  {
   "cell_type": "markdown",
   "id": "a3274037",
   "metadata": {
    "papermill": {
     "duration": 0.005135,
     "end_time": "2023-05-12T03:15:56.036614",
     "exception": false,
     "start_time": "2023-05-12T03:15:56.031479",
     "status": "completed"
    },
    "tags": []
   },
   "source": [
    "1. Introduction\n",
    "2. Import Libraries and Data\n",
    "3. Data Cleaning and Processing\n",
    "4. Exploratory Data Analysis (EDA)\n",
    "5. Develop Predictive Models\n",
    "6. Test and Evaluate Models\n",
    "7. Conclusion"
   ]
  },
  {
   "cell_type": "markdown",
   "id": "449ef8e9",
   "metadata": {
    "papermill": {
     "duration": 0.005438,
     "end_time": "2023-05-12T03:15:56.047495",
     "exception": false,
     "start_time": "2023-05-12T03:15:56.042057",
     "status": "completed"
    },
    "tags": []
   },
   "source": [
    "## Introduction"
   ]
  },
  {
   "cell_type": "markdown",
   "id": "a2cbf6be",
   "metadata": {
    "papermill": {
     "duration": 0.005087,
     "end_time": "2023-05-12T03:15:56.058000",
     "exception": false,
     "start_time": "2023-05-12T03:15:56.052913",
     "status": "completed"
    },
    "tags": []
   },
   "source": [
    "(background on NBFI Vehicle Loans)"
   ]
  },
  {
   "cell_type": "markdown",
   "id": "39530dc3",
   "metadata": {
    "execution": {
     "iopub.execute_input": "2023-05-12T02:50:10.119562Z",
     "iopub.status.busy": "2023-05-12T02:50:10.119134Z",
     "iopub.status.idle": "2023-05-12T02:50:10.124843Z",
     "shell.execute_reply": "2023-05-12T02:50:10.123357Z",
     "shell.execute_reply.started": "2023-05-12T02:50:10.119524Z"
    },
    "papermill": {
     "duration": 0.005041,
     "end_time": "2023-05-12T03:15:56.068354",
     "exception": false,
     "start_time": "2023-05-12T03:15:56.063313",
     "status": "completed"
    },
    "tags": []
   },
   "source": [
    "## Import Libraries and Data"
   ]
  },
  {
   "cell_type": "markdown",
   "id": "7ca6615f",
   "metadata": {
    "papermill": {
     "duration": 0.005199,
     "end_time": "2023-05-12T03:15:56.078976",
     "exception": false,
     "start_time": "2023-05-12T03:15:56.073777",
     "status": "completed"
    },
    "tags": []
   },
   "source": [
    "### Import Libraries"
   ]
  },
  {
   "cell_type": "code",
   "execution_count": 1,
   "id": "eff2e4db",
   "metadata": {
    "_cell_guid": "b1076dfc-b9ad-4769-8c92-a6c4dae69d19",
    "_uuid": "8f2839f25d086af736a60e9eeb907d3b93b6e0e5",
    "execution": {
     "iopub.execute_input": "2023-05-12T03:15:56.092460Z",
     "iopub.status.busy": "2023-05-12T03:15:56.091756Z",
     "iopub.status.idle": "2023-05-12T03:15:57.488034Z",
     "shell.execute_reply": "2023-05-12T03:15:57.486432Z"
    },
    "papermill": {
     "duration": 1.407116,
     "end_time": "2023-05-12T03:15:57.491427",
     "exception": false,
     "start_time": "2023-05-12T03:15:56.084311",
     "status": "completed"
    },
    "tags": []
   },
   "outputs": [],
   "source": [
    "#Import Libraries\n",
    "import numpy as np\n",
    "import pandas as pd \n",
    "import os\n",
    "\n",
    "import matplotlib.pyplot as plt\n",
    "import seaborn as sns\n",
    "import graphviz"
   ]
  },
  {
   "cell_type": "markdown",
   "id": "dda9bd0c",
   "metadata": {
    "papermill": {
     "duration": 0.005414,
     "end_time": "2023-05-12T03:15:57.502668",
     "exception": false,
     "start_time": "2023-05-12T03:15:57.497254",
     "status": "completed"
    },
    "tags": []
   },
   "source": [
    "### Import Data"
   ]
  },
  {
   "cell_type": "code",
   "execution_count": 2,
   "id": "5b47d872",
   "metadata": {
    "execution": {
     "iopub.execute_input": "2023-05-12T03:15:57.516580Z",
     "iopub.status.busy": "2023-05-12T03:15:57.515452Z",
     "iopub.status.idle": "2023-05-12T03:15:57.530670Z",
     "shell.execute_reply": "2023-05-12T03:15:57.529174Z"
    },
    "papermill": {
     "duration": 0.025085,
     "end_time": "2023-05-12T03:15:57.533552",
     "exception": false,
     "start_time": "2023-05-12T03:15:57.508467",
     "status": "completed"
    },
    "tags": []
   },
   "outputs": [
    {
     "name": "stdout",
     "output_type": "stream",
     "text": [
      "/kaggle/input/nbfi-vehicle-loan-repayment-dataset/Data_Dictionary.csv\n",
      "/kaggle/input/nbfi-vehicle-loan-repayment-dataset/Train_Dataset.csv\n",
      "/kaggle/input/nbfi-vehicle-loan-repayment-dataset/Test_Dataset.csv\n"
     ]
    }
   ],
   "source": [
    "#Import data\n",
    "for dirname, _, filenames in os.walk('/kaggle/input'):\n",
    "    for filename in filenames:\n",
    "        print(os.path.join(dirname, filename))"
   ]
  },
  {
   "cell_type": "code",
   "execution_count": 3,
   "id": "f92b7626",
   "metadata": {
    "execution": {
     "iopub.execute_input": "2023-05-12T03:15:57.547263Z",
     "iopub.status.busy": "2023-05-12T03:15:57.546202Z",
     "iopub.status.idle": "2023-05-12T03:15:58.495347Z",
     "shell.execute_reply": "2023-05-12T03:15:58.494084Z"
    },
    "papermill": {
     "duration": 0.959002,
     "end_time": "2023-05-12T03:15:58.498273",
     "exception": false,
     "start_time": "2023-05-12T03:15:57.539271",
     "status": "completed"
    },
    "tags": []
   },
   "outputs": [
    {
     "name": "stderr",
     "output_type": "stream",
     "text": [
      "/opt/conda/lib/python3.7/site-packages/IPython/core/interactiveshell.py:3553: DtypeWarning: Columns (1,7,8,16,17,18,19,20,35) have mixed types.Specify dtype option on import or set low_memory=False.\n",
      "  exec(code_obj, self.user_global_ns, self.user_ns)\n"
     ]
    }
   ],
   "source": [
    "#Save cvs file data as pandas df\n",
    "data_dictionary = pd.read_csv('/kaggle/input/nbfi-vehicle-loan-repayment-dataset/Data_Dictionary.csv')\n",
    "train_data = pd.read_csv('/kaggle/input/nbfi-vehicle-loan-repayment-dataset/Train_Dataset.csv')"
   ]
  },
  {
   "cell_type": "markdown",
   "id": "6c0ea71f",
   "metadata": {
    "execution": {
     "iopub.execute_input": "2023-05-12T03:07:46.687395Z",
     "iopub.status.busy": "2023-05-12T03:07:46.686414Z",
     "iopub.status.idle": "2023-05-12T03:07:46.692756Z",
     "shell.execute_reply": "2023-05-12T03:07:46.691436Z",
     "shell.execute_reply.started": "2023-05-12T03:07:46.687342Z"
    },
    "papermill": {
     "duration": 0.005245,
     "end_time": "2023-05-12T03:15:58.509140",
     "exception": false,
     "start_time": "2023-05-12T03:15:58.503895",
     "status": "completed"
    },
    "tags": []
   },
   "source": [
    "## Data Cleaning and Processing"
   ]
  },
  {
   "cell_type": "markdown",
   "id": "4721b5bb",
   "metadata": {
    "papermill": {
     "duration": 0.005209,
     "end_time": "2023-05-12T03:15:58.520850",
     "exception": false,
     "start_time": "2023-05-12T03:15:58.515641",
     "status": "completed"
    },
    "tags": []
   },
   "source": []
  },
  {
   "cell_type": "code",
   "execution_count": null,
   "id": "c4fd329c",
   "metadata": {
    "papermill": {
     "duration": 0.00574,
     "end_time": "2023-05-12T03:15:58.532082",
     "exception": false,
     "start_time": "2023-05-12T03:15:58.526342",
     "status": "completed"
    },
    "tags": []
   },
   "outputs": [],
   "source": []
  },
  {
   "cell_type": "markdown",
   "id": "50115c6f",
   "metadata": {
    "papermill": {
     "duration": 0.005286,
     "end_time": "2023-05-12T03:15:58.542998",
     "exception": false,
     "start_time": "2023-05-12T03:15:58.537712",
     "status": "completed"
    },
    "tags": []
   },
   "source": [
    "## Exploratory Data Analysis (EDA)"
   ]
  },
  {
   "cell_type": "markdown",
   "id": "35b09d18",
   "metadata": {
    "papermill": {
     "duration": 0.005648,
     "end_time": "2023-05-12T03:15:58.554289",
     "exception": false,
     "start_time": "2023-05-12T03:15:58.548641",
     "status": "completed"
    },
    "tags": []
   },
   "source": [
    "### Data Description"
   ]
  },
  {
   "cell_type": "markdown",
   "id": "b9c6ac73",
   "metadata": {
    "papermill": {
     "duration": 0.005201,
     "end_time": "2023-05-12T03:15:58.564990",
     "exception": false,
     "start_time": "2023-05-12T03:15:58.559789",
     "status": "completed"
    },
    "tags": []
   },
   "source": [
    "(overview of data fields)"
   ]
  },
  {
   "cell_type": "markdown",
   "id": "8e9a75f1",
   "metadata": {
    "papermill": {
     "duration": 0.005216,
     "end_time": "2023-05-12T03:15:58.575802",
     "exception": false,
     "start_time": "2023-05-12T03:15:58.570586",
     "status": "completed"
    },
    "tags": []
   },
   "source": [
    "### Categorical Data Analysis"
   ]
  },
  {
   "cell_type": "code",
   "execution_count": null,
   "id": "db357857",
   "metadata": {
    "papermill": {
     "duration": 0.005586,
     "end_time": "2023-05-12T03:15:58.586854",
     "exception": false,
     "start_time": "2023-05-12T03:15:58.581268",
     "status": "completed"
    },
    "tags": []
   },
   "outputs": [],
   "source": []
  },
  {
   "cell_type": "markdown",
   "id": "ee6c477b",
   "metadata": {
    "papermill": {
     "duration": 0.005336,
     "end_time": "2023-05-12T03:15:58.597773",
     "exception": false,
     "start_time": "2023-05-12T03:15:58.592437",
     "status": "completed"
    },
    "tags": []
   },
   "source": [
    "### Quantitative Data Analysis"
   ]
  },
  {
   "cell_type": "code",
   "execution_count": null,
   "id": "1a6242ff",
   "metadata": {
    "papermill": {
     "duration": 0.005212,
     "end_time": "2023-05-12T03:15:58.608513",
     "exception": false,
     "start_time": "2023-05-12T03:15:58.603301",
     "status": "completed"
    },
    "tags": []
   },
   "outputs": [],
   "source": []
  },
  {
   "cell_type": "markdown",
   "id": "5d2fb751",
   "metadata": {
    "papermill": {
     "duration": 0.005144,
     "end_time": "2023-05-12T03:15:58.619101",
     "exception": false,
     "start_time": "2023-05-12T03:15:58.613957",
     "status": "completed"
    },
    "tags": []
   },
   "source": [
    "## Develop Predictive Models"
   ]
  },
  {
   "cell_type": "code",
   "execution_count": null,
   "id": "2481baeb",
   "metadata": {
    "papermill": {
     "duration": 0.005075,
     "end_time": "2023-05-12T03:15:58.629697",
     "exception": false,
     "start_time": "2023-05-12T03:15:58.624622",
     "status": "completed"
    },
    "tags": []
   },
   "outputs": [],
   "source": []
  },
  {
   "cell_type": "markdown",
   "id": "f9bf63fb",
   "metadata": {
    "papermill": {
     "duration": 0.005179,
     "end_time": "2023-05-12T03:15:58.640218",
     "exception": false,
     "start_time": "2023-05-12T03:15:58.635039",
     "status": "completed"
    },
    "tags": []
   },
   "source": [
    "## Test and Evaluate Models"
   ]
  },
  {
   "cell_type": "code",
   "execution_count": null,
   "id": "4817e584",
   "metadata": {
    "papermill": {
     "duration": 0.005228,
     "end_time": "2023-05-12T03:15:58.650925",
     "exception": false,
     "start_time": "2023-05-12T03:15:58.645697",
     "status": "completed"
    },
    "tags": []
   },
   "outputs": [],
   "source": []
  },
  {
   "cell_type": "markdown",
   "id": "da823c35",
   "metadata": {
    "papermill": {
     "duration": 0.005065,
     "end_time": "2023-05-12T03:15:58.661360",
     "exception": false,
     "start_time": "2023-05-12T03:15:58.656295",
     "status": "completed"
    },
    "tags": []
   },
   "source": [
    "## Conclusion"
   ]
  },
  {
   "cell_type": "markdown",
   "id": "466ac3eb",
   "metadata": {
    "papermill": {
     "duration": 0.005098,
     "end_time": "2023-05-12T03:15:58.671884",
     "exception": false,
     "start_time": "2023-05-12T03:15:58.666786",
     "status": "completed"
    },
    "tags": []
   },
   "source": [
    "(summarize findings and results)"
   ]
  },
  {
   "cell_type": "code",
   "execution_count": null,
   "id": "a0612f4a",
   "metadata": {
    "papermill": {
     "duration": 0.005148,
     "end_time": "2023-05-12T03:15:58.682518",
     "exception": false,
     "start_time": "2023-05-12T03:15:58.677370",
     "status": "completed"
    },
    "tags": []
   },
   "outputs": [],
   "source": []
  }
 ],
 "metadata": {
  "kernelspec": {
   "display_name": "Python 3",
   "language": "python",
   "name": "python3"
  },
  "language_info": {
   "codemirror_mode": {
    "name": "ipython",
    "version": 3
   },
   "file_extension": ".py",
   "mimetype": "text/x-python",
   "name": "python",
   "nbconvert_exporter": "python",
   "pygments_lexer": "ipython3",
   "version": "3.7.12"
  },
  "papermill": {
   "default_parameters": {},
   "duration": 15.82915,
   "end_time": "2023-05-12T03:15:59.415739",
   "environment_variables": {},
   "exception": null,
   "input_path": "__notebook__.ipynb",
   "output_path": "__notebook__.ipynb",
   "parameters": {},
   "start_time": "2023-05-12T03:15:43.586589",
   "version": "2.4.0"
  }
 },
 "nbformat": 4,
 "nbformat_minor": 5
}
